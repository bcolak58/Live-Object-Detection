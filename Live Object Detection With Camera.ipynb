{
 "cells": [
  {
   "cell_type": "markdown",
   "id": "6af03102",
   "metadata": {},
   "source": [
    "# Object Detection From Camera Using yolov4 Library"
   ]
  },
  {
   "cell_type": "markdown",
   "id": "a3fc3a15",
   "metadata": {},
   "source": [
    "<img src=\"concept-protection-monitoring-privacy.jpg\" alt=\"pdf chat\" style=\"width:200px;height:200px;\">"
   ]
  },
  {
   "cell_type": "code",
   "execution_count": 1,
   "id": "087134f4",
   "metadata": {},
   "outputs": [],
   "source": [
    "#!pip install yolov4\n",
    "#!pip install cv2\n",
    "#!pip install tensorflow"
   ]
  },
  {
   "cell_type": "code",
   "execution_count": 2,
   "id": "a01f2ece",
   "metadata": {},
   "outputs": [
    {
     "name": "stdout",
     "output_type": "stream",
     "text": [
      "WARNING:tensorflow:From C:\\Users\\root\\anaconda3\\Lib\\site-packages\\keras\\src\\losses.py:2976: The name tf.losses.sparse_softmax_cross_entropy is deprecated. Please use tf.compat.v1.losses.sparse_softmax_cross_entropy instead.\n",
      "\n"
     ]
    }
   ],
   "source": [
    "import cv2\n",
    "import cvlib as cv\n",
    "from cvlib.object_detection import draw_bbox"
   ]
  },
  {
   "cell_type": "code",
   "execution_count": 3,
   "id": "04b06202",
   "metadata": {},
   "outputs": [],
   "source": [
    "# Starting Camera\n",
    "cap = cv2.VideoCapture(0) #local camera\n",
    "#cap = cv2.VideoCapture(http://192.168.0.13:8080/video) #remote camera\n",
    "\n",
    "\n",
    "while True:\n",
    "    # read frames\n",
    "    ret, frame = cap.read()\n",
    "    # Object Detection\n",
    "    bbox, label, conf = cv.detect_common_objects(frame, confidence=0.5, model='yolov4')\n",
    "    # Drow frame around objects\n",
    "    output = draw_bbox(frame, bbox, label, conf)\n",
    "    # show window\n",
    "    cv2.imshow('Object Detection', output)\n",
    "    # q quit\n",
    "    if cv2.waitKey(1) & 0xFF == ord('q'):\n",
    "        break\n",
    "        \n",
    "# clear screen\n",
    "cap.release()"
   ]
  }
 ],
 "metadata": {
  "kernelspec": {
   "display_name": "Python 3 (ipykernel)",
   "language": "python",
   "name": "python3"
  },
  "language_info": {
   "codemirror_mode": {
    "name": "ipython",
    "version": 3
   },
   "file_extension": ".py",
   "mimetype": "text/x-python",
   "name": "python",
   "nbconvert_exporter": "python",
   "pygments_lexer": "ipython3",
   "version": "3.11.4"
  }
 },
 "nbformat": 4,
 "nbformat_minor": 5
}
